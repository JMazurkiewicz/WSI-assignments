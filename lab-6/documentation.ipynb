{
 "cells": [
  {
   "cell_type": "markdown",
   "metadata": {},
   "source": [
    "# WSI - laboratorium 6\n",
    "\n",
    "Zadanie: Uczenie (się) ze wzmocnieniem\n",
    "\n",
    "Autor: Jakub Mazurkiewicz (300226)\n",
    "\n",
    "## Klasy pomocnicze\n",
    "\n",
    "### Zestaw hiperparametrów\n",
    "\n",
    "Poniższa klasa reprezentuje zestaw hiperparametrów:"
   ]
  },
  {
   "cell_type": "code",
   "execution_count": 2,
   "metadata": {},
   "outputs": [],
   "source": [
    "from dataclasses import dataclass\n",
    "\n",
    "@dataclass\n",
    "class Hyperparameters:\n",
    "    learning_rate: float = 0.1\n",
    "    discount_factor: float = 0.6\n",
    "    epsilon: float = 0.1\n",
    "    episodes: int = 1000\n",
    "\n",
    "    def __repr__(self):\n",
    "        return '\\n'.join([\n",
    "            f'Learning rate: {self.learning_rate}',\n",
    "            f'Discount factor: {self.discount_factor}',\n",
    "            f'Epsilon: {self.epsilon}',\n",
    "            f'Episodes: {self.episodes}'\n",
    "        ])"
   ]
  },
  {
   "cell_type": "markdown",
   "metadata": {},
   "source": [
    "### Wyniki uczenia\n",
    "\n",
    "Poniższa klasa reprezentuje wyniki uczenia:"
   ]
  },
  {
   "cell_type": "code",
   "execution_count": 1,
   "metadata": {},
   "outputs": [
    {
     "ename": "NameError",
     "evalue": "name 'dataclass' is not defined",
     "output_type": "error",
     "traceback": [
      "\u001b[1;31m---------------------------------------------------------------------------\u001b[0m",
      "\u001b[1;31mNameError\u001b[0m                                 Traceback (most recent call last)",
      "\u001b[1;32md:\\stud\\wsi\\laboratoria\\lab-6\\documentation.ipynb Cell 4'\u001b[0m in \u001b[0;36m<cell line: 1>\u001b[1;34m()\u001b[0m\n\u001b[1;32m----> <a href='vscode-notebook-cell:/d%3A/stud/wsi/laboratoria/lab-6/documentation.ipynb#ch0000004?line=0'>1</a>\u001b[0m \u001b[39m@dataclass\u001b[39m\n\u001b[0;32m      <a href='vscode-notebook-cell:/d%3A/stud/wsi/laboratoria/lab-6/documentation.ipynb#ch0000004?line=1'>2</a>\u001b[0m \u001b[39mclass\u001b[39;00m \u001b[39mLearningStats\u001b[39;00m:\n\u001b[0;32m      <a href='vscode-notebook-cell:/d%3A/stud/wsi/laboratoria/lab-6/documentation.ipynb#ch0000004?line=2'>3</a>\u001b[0m     penalty_count: \u001b[39mint\u001b[39m \u001b[39m=\u001b[39m \u001b[39m0\u001b[39m\n\u001b[0;32m      <a href='vscode-notebook-cell:/d%3A/stud/wsi/laboratoria/lab-6/documentation.ipynb#ch0000004?line=3'>4</a>\u001b[0m     total_reward: \u001b[39mint\u001b[39m \u001b[39m=\u001b[39m \u001b[39m0\u001b[39m\n",
      "\u001b[1;31mNameError\u001b[0m: name 'dataclass' is not defined"
     ]
    }
   ],
   "source": [
    "@dataclass\n",
    "class LearningStats:\n",
    "    penalty_count: int = 0\n",
    "    total_reward: int = 0"
   ]
  },
  {
   "cell_type": "markdown",
   "metadata": {},
   "source": []
  }
 ],
 "metadata": {
  "interpreter": {
   "hash": "326db1f3a0d7d698a176c29c2d5d35e7b9aba83f5d223c286b26f209ce5d7661"
  },
  "kernelspec": {
   "display_name": "Python 3.10.4 64-bit",
   "language": "python",
   "name": "python3"
  },
  "language_info": {
   "codemirror_mode": {
    "name": "ipython",
    "version": 3
   },
   "file_extension": ".py",
   "mimetype": "text/x-python",
   "name": "python",
   "nbconvert_exporter": "python",
   "pygments_lexer": "ipython3",
   "version": "3.10.4"
  },
  "orig_nbformat": 4
 },
 "nbformat": 4,
 "nbformat_minor": 2
}
