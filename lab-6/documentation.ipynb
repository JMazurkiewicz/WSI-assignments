{
 "cells": [
  {
   "cell_type": "markdown",
   "metadata": {},
   "source": [
    "# WSI - laboratorium 6\n",
    "\n",
    "Zadanie: Uczenie (się) ze wzmocnieniem\n",
    "\n",
    "Autor: Jakub Mazurkiewicz (300226)\n",
    "\n",
    "## Klasy pomocnicze\n",
    "\n",
    "### Zestaw hiperparametrów\n",
    "\n",
    "Poniższa klasa reprezentuje zestaw hiperparametrów:"
   ]
  },
  {
   "cell_type": "code",
   "execution_count": 1,
   "metadata": {},
   "outputs": [],
   "source": [
    "from dataclasses import dataclass\n",
    "\n",
    "@dataclass\n",
    "class Hyperparameters:\n",
    "    learning_rate: float = 0.5\n",
    "    discount_factor: float = 0.6\n",
    "    epsilon: float = 0.1\n",
    "    episodes: int = 10000\n",
    "\n",
    "    def __repr__(self):\n",
    "        return '\\n'.join([\n",
    "            f'Learning rate: {self.learning_rate}',\n",
    "            f'Discount factor: {self.discount_factor}',\n",
    "            f'Epsilon: {self.epsilon}',\n",
    "            f'Episodes: {self.episodes}'\n",
    "        ])"
   ]
  },
  {
   "cell_type": "markdown",
   "metadata": {},
   "source": [
    "### Statystyki z pojedynczego epizodu\n",
    "\n",
    "Poniższa klasa reprezentuje statystyki z pojedynczego epizodu:"
   ]
  },
  {
   "cell_type": "code",
   "execution_count": 2,
   "metadata": {},
   "outputs": [],
   "source": [
    "@dataclass\n",
    "class EpisodesStats:\n",
    "    penalty_count: int = 0\n",
    "    total_reward: int = 0"
   ]
  },
  {
   "cell_type": "markdown",
   "metadata": {},
   "source": [
    "### Wyniki ewaluacji\n",
    "\n",
    "Poniższa klasa reprezentuje wyniki ewaluacji:"
   ]
  },
  {
   "cell_type": "code",
   "execution_count": 5,
   "metadata": {},
   "outputs": [],
   "source": [
    "from typing import List\n",
    "\n",
    "@dataclass\n",
    "class EvaluationResult:\n",
    "    avg_epoch_count: float\n",
    "    avg_penalty: float\n",
    "    learning_episodes: int\n",
    "    stats: List[EpisodesStats]\n",
    "\n",
    "    def __repr__(self):\n",
    "        return '\\n'.join([\n",
    "            f'After {self.learning_episodes} episodes:',\n",
    "            f'* Average epochs per episode: {self.avg_epoch_count}',\n",
    "            f'* Average penalty per episode: {self.avg_penalty}'\n",
    "        ])"
   ]
  },
  {
   "cell_type": "markdown",
   "metadata": {},
   "source": [
    "## Klasa implementująca algorytmu Q-learning\n",
    "\n",
    "### Schemat nagradzania\n",
    "\n",
    "Schemat nagradzania jest taki sam jak w bibliotece `gym`:\n",
    "\n",
    "* -1 za każdy krok (w kodzie: `epoch`), który nie kończy się wyższą nagrodą,\n",
    "* +20 za pomyślny przejaz z pasażerem,\n",
    "* -10 za wykonanie operacji \"pickup\" lub \"dropoff\" w niedozwolonymi miejscu.\n",
    "\n",
    "\n",
    "### Kod\n",
    "\n",
    "Poniższa klasa implementuje algorytm Q-learning wykorzystujący ."
   ]
  },
  {
   "cell_type": "code",
   "execution_count": null,
   "metadata": {},
   "outputs": [],
   "source": [
    "import random\n",
    "import numpy as np\n",
    "from gym import Env\n",
    "\n"
   ]
  }
 ],
 "metadata": {
  "interpreter": {
   "hash": "326db1f3a0d7d698a176c29c2d5d35e7b9aba83f5d223c286b26f209ce5d7661"
  },
  "kernelspec": {
   "display_name": "Python 3.10.4 64-bit",
   "language": "python",
   "name": "python3"
  },
  "language_info": {
   "codemirror_mode": {
    "name": "ipython",
    "version": 3
   },
   "file_extension": ".py",
   "mimetype": "text/x-python",
   "name": "python",
   "nbconvert_exporter": "python",
   "pygments_lexer": "ipython3",
   "version": "3.10.4"
  },
  "orig_nbformat": 4
 },
 "nbformat": 4,
 "nbformat_minor": 2
}
