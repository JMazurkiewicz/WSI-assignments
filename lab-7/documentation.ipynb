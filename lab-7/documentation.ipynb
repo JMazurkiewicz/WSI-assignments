{
 "cells": [
  {
   "cell_type": "markdown",
   "metadata": {},
   "source": [
    "# WSI - laboratorium 7\n",
    "\n",
    "Zadanie: Modele bayesowskie\n",
    "\n",
    "Autor: Jakub Mazurkiewicz (300226)\n",
    "\n",
    "## Implementacja naiwnego klasyfikatora Bayesa"
   ]
  },
  {
   "cell_type": "code",
   "execution_count": 1,
   "metadata": {},
   "outputs": [],
   "source": [
    "import numpy as np\n",
    "\n",
    "class NaiveBayes:\n",
    "    def __init__(self, x_train, y_train):\n",
    "        sample_count, attrib_count = x_train.shape\n",
    "        self.classes = np.unique(y_train)\n",
    "        self.class_count = len(self.classes)\n",
    "\n",
    "        self.mean = np.zeros((self.class_count, attrib_count))\n",
    "        self.stdev = np.zeros((self.class_count, attrib_count))\n",
    "        self.prob = np.zeros(self.class_count)\n",
    "\n",
    "        for i, c in enumerate(self.classes):\n",
    "            x_of_c = x_train[y_train == c]\n",
    "            self.mean[i] = x_of_c.mean(axis=0)\n",
    "            self.stdev[i] = x_of_c.std(axis=0)\n",
    "            self.prob[i] = x_of_c.shape[0] / sample_count\n",
    "\n",
    "    def classify(self, x):\n",
    "        return [self._classify_one(one) for one in x]\n",
    "\n",
    "    def _classify_one(self, x):\n",
    "        search_table = [\n",
    "            self.prob[i] * np.product(self._pdf_normal_dist(i, x))\n",
    "            for i in range(self.class_count)\n",
    "        ]\n",
    "        predicted = np.argmax(search_table)\n",
    "        return self.classes[predicted]\n",
    "\n",
    "    def _pdf_normal_dist(self, class_index, x):\n",
    "        mean = self.mean[class_index]\n",
    "        stdev = self.stdev[class_index]\n",
    "        part1 = 1 / (stdev * np.sqrt(2 * np.pi))\n",
    "        part2 = np.exp(-0.5 * ((x - mean) / stdev) ** 2)\n",
    "        return part1 * part2"
   ]
  },
  {
   "cell_type": "markdown",
   "metadata": {},
   "source": [
    "## Przeprowadzanie eksperymentów\n",
    "\n",
    "### Funkcja wybierająca zbiór uczący"
   ]
  },
  {
   "cell_type": "code",
   "execution_count": 2,
   "metadata": {},
   "outputs": [],
   "source": [
    "def compose_train_set(data, chunk_size, chunk_to_skip):\n",
    "    result = []\n",
    "    for j in range(0, len(data), chunk_size):\n",
    "        if chunk_to_skip != j:\n",
    "            result += data[j:j+chunk_size]\n",
    "    return np.array(result)"
   ]
  },
  {
   "cell_type": "markdown",
   "metadata": {},
   "source": [
    "### Pojedynczy eksperyment dla zadanych danych"
   ]
  },
  {
   "cell_type": "code",
   "execution_count": 3,
   "metadata": {},
   "outputs": [],
   "source": [
    "from sklearn.metrics import confusion_matrix, recall_score, precision_score\n",
    "\n",
    "def run_experiment(x, y, chunk_size, chunk_to_skip):\n",
    "    x_train = compose_train_set(x, chunk_size, chunk_to_skip)\n",
    "    y_train = compose_train_set(y, chunk_size, chunk_to_skip)\n",
    "    algo = NaiveBayes(x_train, y_train)\n",
    "    x_test = x[chunk_to_skip:chunk_to_skip+chunk_size]\n",
    "    y_test = y[chunk_to_skip:chunk_to_skip+chunk_size]\n",
    "    results = algo.classify(x_test)\n",
    "\n",
    "    # TODO: more or less stats?\n",
    "    print(f'Confusion matrix:\\n{confusion_matrix(y_test, results)}')\n",
    "    print(f'Precision: {list(precision_score(y_test, results, average=None))}')\n",
    "    accuracy = sum(a == b for a, b in zip(results, y_test)) / len(results)\n",
    "    print(f'Accuracy: {100 * accuracy:.2f}%')\n",
    "    print(f'Recall: {list(recall_score(y_test, results, average=None))}')\n",
    "    return accuracy"
   ]
  },
  {
   "cell_type": "markdown",
   "metadata": {},
   "source": [
    "### Funkcja przeprowadzająca pełny eksperyment\n",
    "\n",
    "Parametr `k` oznacza `k`-krotną walidację krzyżową."
   ]
  },
  {
   "cell_type": "code",
   "execution_count": 4,
   "metadata": {},
   "outputs": [],
   "source": [
    "from random import Random\n",
    "from sklearn.datasets import load_iris\n",
    "\n",
    "def experiment(seed, k):\n",
    "    iris = load_iris()\n",
    "    iris_size = len(iris.data)\n",
    "    if iris_size % k != 0:\n",
    "        print(f'Please pick `k` such that {iris_size} would be divisible '\n",
    "              f'by it ({iris_size} % {k} = {iris_size % k})')\n",
    "    else:\n",
    "        zipped_iris = list(zip(iris.data, iris.target))\n",
    "        Random(seed).shuffle(zipped_iris)\n",
    "        iris.data, iris.target = zip(*zipped_iris)\n",
    "        chunk_size = iris_size // k\n",
    "        results = [run_experiment(iris.data, iris.target, chunk_size, i) for i in range(k)]\n",
    "\n",
    "        print(f'Average accuracy: {100 * np.mean(results):.2f}%')"
   ]
  },
  {
   "cell_type": "markdown",
   "metadata": {},
   "source": [
    "## Eksperymenty\n",
    "\n",
    "### Dla `k = 5`"
   ]
  },
  {
   "cell_type": "code",
   "execution_count": 5,
   "metadata": {},
   "outputs": [
    {
     "name": "stdout",
     "output_type": "stream",
     "text": [
      "Confusion matrix:\n",
      "[[12  0  0]\n",
      " [ 0  7  2]\n",
      " [ 0  0  9]]\n",
      "Precision: [1.0, 1.0, 0.8181818181818182]\n",
      "Accuracy: 93.33%\n",
      "Recall: [1.0, 0.7777777777777778, 1.0]\n",
      "Confusion matrix:\n",
      "[[12  0  0]\n",
      " [ 0  7  3]\n",
      " [ 0  0  8]]\n",
      "Precision: [1.0, 1.0, 0.7272727272727273]\n",
      "Accuracy: 90.00%\n",
      "Recall: [1.0, 0.7, 1.0]\n",
      "Confusion matrix:\n",
      "[[11  0  0]\n",
      " [ 0  7  3]\n",
      " [ 0  0  9]]\n",
      "Precision: [1.0, 1.0, 0.75]\n",
      "Accuracy: 90.00%\n",
      "Recall: [1.0, 0.7, 1.0]\n",
      "Confusion matrix:\n",
      "[[11  0  0]\n",
      " [ 0  7  3]\n",
      " [ 0  0  9]]\n",
      "Precision: [1.0, 1.0, 0.75]\n",
      "Accuracy: 90.00%\n",
      "Recall: [1.0, 0.7, 1.0]\n",
      "Confusion matrix:\n",
      "[[11  0  0]\n",
      " [ 0  6  3]\n",
      " [ 0  0 10]]\n",
      "Precision: [1.0, 1.0, 0.7692307692307693]\n",
      "Accuracy: 90.00%\n",
      "Recall: [1.0, 0.6666666666666666, 1.0]\n",
      "Average accuracy: 90.67%\n"
     ]
    }
   ],
   "source": [
    "experiment(seed=777, k=5)"
   ]
  },
  {
   "cell_type": "code",
   "execution_count": null,
   "metadata": {},
   "outputs": [],
   "source": []
  }
 ],
 "metadata": {
  "interpreter": {
   "hash": "326db1f3a0d7d698a176c29c2d5d35e7b9aba83f5d223c286b26f209ce5d7661"
  },
  "kernelspec": {
   "display_name": "Python 3.10.4 64-bit",
   "language": "python",
   "name": "python3"
  },
  "language_info": {
   "codemirror_mode": {
    "name": "ipython",
    "version": 3
   },
   "file_extension": ".py",
   "mimetype": "text/x-python",
   "name": "python",
   "nbconvert_exporter": "python",
   "pygments_lexer": "ipython3",
   "version": "3.10.4"
  },
  "orig_nbformat": 4
 },
 "nbformat": 4,
 "nbformat_minor": 2
}
