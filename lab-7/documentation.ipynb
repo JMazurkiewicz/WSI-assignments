{
 "cells": [
  {
   "cell_type": "markdown",
   "metadata": {},
   "source": [
    "# WSI - laboratorium 7\n",
    "\n",
    "Zadanie: Modele bayesowskie\n",
    "\n",
    "Autor: Jakub Mazurkiewicz (300226)\n",
    "\n",
    "## Implementacja naiwnego klasyfikatora Bayesa"
   ]
  },
  {
   "cell_type": "code",
   "execution_count": 31,
   "metadata": {},
   "outputs": [],
   "source": [
    "import numpy as np\n",
    "\n",
    "class NaiveBayes:\n",
    "    def __init__(self, x_train, y_train):\n",
    "        sample_count, attrib_count = x_train.shape\n",
    "        self.classes = np.unique(y_train)\n",
    "        self.class_count = len(self.classes)\n",
    "\n",
    "        self.mean = np.zeros((self.class_count, attrib_count))\n",
    "        self.stdev = np.zeros((self.class_count, attrib_count))\n",
    "        self.prob = np.zeros([self.class_count])\n",
    "\n",
    "        for i, c in enumerate(self.classes):\n",
    "            x_of_c = x_train[y_train == c]\n",
    "            self.mean[i] = x_of_c.mean(axis=0)\n",
    "            self.stdev[i] = x_of_c.std(axis=0)\n",
    "            self.prob[i] = x_of_c.shape[0] / sample_count\n",
    "\n",
    "    def classify(self, x):\n",
    "        return [self._classify_one(one) for one in x]\n",
    "\n",
    "    def _classify_one(self, x):\n",
    "        search_table = [\n",
    "            self.prob[i] * np.product(self._pdf_normal_dist(i, x))\n",
    "            for i in range(self.class_count)\n",
    "        ]\n",
    "        predicted = np.argmax(search_table)\n",
    "        return self.classes[predicted]\n",
    "\n",
    "    def _pdf_normal_dist(self, class_index, x):\n",
    "        mean = self.mean[class_index]\n",
    "        stdev = self.stdev[class_index]\n",
    "        part1 = 1 / (stdev * np.sqrt(2 * np.pi))\n",
    "        part2 = np.exp(-0.5 * ((x - mean) / stdev) ** 2)\n",
    "        return part1 * part2\n"
   ]
  },
  {
   "cell_type": "markdown",
   "metadata": {},
   "source": [
    "## Przeprowadzanie eksperymentów\n",
    "\n",
    "### Funkcja wybierająca zbiór uczący"
   ]
  },
  {
   "cell_type": "code",
   "execution_count": 32,
   "metadata": {},
   "outputs": [],
   "source": [
    "def get_training_and_validating_sets(data, chunk_size, chunk_to_skip):\n",
    "    result = []\n",
    "    skip_pos = chunk_to_skip * chunk_size\n",
    "    for j in range(0, len(data), chunk_size):\n",
    "        if skip_pos != j:\n",
    "            result += data[j:j+chunk_size]\n",
    "    return np.array(result), np.array(data[skip_pos:skip_pos+chunk_size])"
   ]
  },
  {
   "cell_type": "markdown",
   "metadata": {},
   "source": [
    "### Pojedynczy eksperyment dla zadanych danych"
   ]
  },
  {
   "cell_type": "code",
   "execution_count": 33,
   "metadata": {},
   "outputs": [],
   "source": [
    "from sklearn.metrics import accuracy_score, confusion_matrix, precision_score\n",
    "\n",
    "def run_experiment(x, y, chunk_size, chunk_to_skip, test_size):\n",
    "    x_test = x[:test_size]\n",
    "    y_test = y[:test_size]\n",
    "    x_train, x_valid = get_training_and_validating_sets(x[test_size:], chunk_size, chunk_to_skip)\n",
    "    y_train, y_valid = get_training_and_validating_sets(y[test_size:], chunk_size, chunk_to_skip)\n",
    "    algo = NaiveBayes(x_train, y_train)\n",
    "    results = algo.classify(x_valid)\n",
    "\n",
    "    print(f'Macierz pomyłek:\\n{confusion_matrix(y_valid, results)}')\n",
    "    print(f'Precyzja (dla konkretnych klas): {list(precision_score(y_valid, results, average=None))}')\n",
    "    accuracy_valid = accuracy_score(y_valid, results)\n",
    "    print(f'Precyzja: {100 * accuracy_valid:.2f}%')\n",
    "    \n",
    "    accuracy_test = accuracy_score(y_test, algo.classify(x_test))\n",
    "    print(f'Precyzja dla zbioru testującego: {100 * accuracy_test:.2f}%')\n",
    "    return accuracy_valid, accuracy_test"
   ]
  },
  {
   "cell_type": "markdown",
   "metadata": {},
   "source": [
    "### Funkcja przeprowadzająca pełny eksperyment\n",
    "\n",
    "Parametr `k` oznacza `k`-krotną walidację krzyżową."
   ]
  },
  {
   "cell_type": "code",
   "execution_count": 34,
   "metadata": {},
   "outputs": [],
   "source": [
    "from random import Random\n",
    "from sklearn.datasets import load_iris\n",
    "\n",
    "def experiment(k, seed, test_size=30):\n",
    "    iris = load_iris()\n",
    "    train_valid_size = len(iris.data) - test_size\n",
    "    if train_valid_size % k != 0:\n",
    "        print(f'Proszę wybrać `k` które dzieli liczbę {train_valid_size} bez reszty '\n",
    "              f'({train_valid_size} % {k} = {train_valid_size % k})')\n",
    "    else:\n",
    "        zipped_iris = list(zip(iris.data, iris.target))\n",
    "        Random(seed).shuffle(zipped_iris)\n",
    "        iris.data, iris.target = zip(*zipped_iris)\n",
    "        chunk_size = train_valid_size // k\n",
    "\n",
    "        print(f'Rozmiar zbioru uczącego:      {(k - 1) * chunk_size}')\n",
    "        print(f'Rozmiar zbioru walidacyjnego: {chunk_size}')\n",
    "        print(f'Rozmiar zbioru testującego:   {test_size}')\n",
    "        results_valid = []\n",
    "        results_test = []\n",
    "        for i in range(k):\n",
    "            print('{:=^45}'.format(f' k = {i} '))\n",
    "            accuracy_valid, accuracy_test = run_experiment(iris.data, iris.target, chunk_size, i, test_size)\n",
    "            results_valid.append(accuracy_valid)\n",
    "            results_test.append(accuracy_test)\n",
    "        print('{:=^45}'.format(' PODSUMOWANIE '))\n",
    "        print(f'Średnia precyzja trafień (zbiór walidacyjny): {100 * np.mean(results_valid):.2f}%')\n",
    "        print(f'Średnia precyzja trafień (zbiór testujący):   {100 * np.mean(results_test):.2f}%')"
   ]
  },
  {
   "cell_type": "markdown",
   "metadata": {},
   "source": [
    "## Eksperymenty dla zbioru testowego o rozmiarze 30\n",
    "\n",
    "### Dla `k = 2`"
   ]
  },
  {
   "cell_type": "code",
   "execution_count": 35,
   "metadata": {},
   "outputs": [
    {
     "name": "stdout",
     "output_type": "stream",
     "text": [
      "Rozmiar zbioru uczącego:      60\n",
      "Rozmiar zbioru walidacyjnego: 60\n",
      "Rozmiar zbioru testującego:   30\n",
      "=================== k = 0 ===================\n",
      "Macierz pomyłek:\n",
      "[[22  0  0]\n",
      " [ 0 17  0]\n",
      " [ 0  1 20]]\n",
      "Precyzja (dla konkretnych klas): [1.0, 0.9444444444444444, 1.0]\n",
      "Precyzja: 98.33%\n",
      "Precyzja dla zbioru testującego: 93.33%\n",
      "=================== k = 1 ===================\n",
      "Macierz pomyłek:\n",
      "[[18  0  0]\n",
      " [ 0 23  3]\n",
      " [ 0  1 15]]\n",
      "Precyzja (dla konkretnych klas): [1.0, 0.9583333333333334, 0.8333333333333334]\n",
      "Precyzja: 93.33%\n",
      "Precyzja dla zbioru testującego: 93.33%\n",
      "=============== PODSUMOWANIE ================\n",
      "Średnia precyzja trafień (zbiór walidacyjny): 95.83%\n",
      "Średnia precyzja trafień (zbiór testujący):   93.33%\n"
     ]
    }
   ],
   "source": [
    "SEED = 32145612469182\n",
    "experiment(k=2, seed=SEED)"
   ]
  },
  {
   "cell_type": "markdown",
   "metadata": {},
   "source": [
    "### Dla `k = 3`"
   ]
  },
  {
   "cell_type": "code",
   "execution_count": 36,
   "metadata": {},
   "outputs": [
    {
     "name": "stdout",
     "output_type": "stream",
     "text": [
      "Rozmiar zbioru uczącego:      80\n",
      "Rozmiar zbioru walidacyjnego: 40\n",
      "Rozmiar zbioru testującego:   30\n",
      "=================== k = 0 ===================\n",
      "Macierz pomyłek:\n",
      "[[12  0  0]\n",
      " [ 0 10  0]\n",
      " [ 0  1 17]]\n",
      "Precyzja (dla konkretnych klas): [1.0, 0.9090909090909091, 1.0]\n",
      "Precyzja: 97.50%\n",
      "Precyzja dla zbioru testującego: 93.33%\n",
      "=================== k = 1 ===================\n",
      "Macierz pomyłek:\n",
      "[[15  0  0]\n",
      " [ 0 15  0]\n",
      " [ 0  1  9]]\n",
      "Precyzja (dla konkretnych klas): [1.0, 0.9375, 1.0]\n",
      "Precyzja: 97.50%\n",
      "Precyzja dla zbioru testującego: 93.33%\n",
      "=================== k = 2 ===================\n",
      "Macierz pomyłek:\n",
      "[[13  0  0]\n",
      " [ 0 17  1]\n",
      " [ 0  0  9]]\n",
      "Precyzja (dla konkretnych klas): [1.0, 1.0, 0.9]\n",
      "Precyzja: 97.50%\n",
      "Precyzja dla zbioru testującego: 93.33%\n",
      "=============== PODSUMOWANIE ================\n",
      "Średnia precyzja trafień (zbiór walidacyjny): 97.50%\n",
      "Średnia precyzja trafień (zbiór testujący):   93.33%\n"
     ]
    }
   ],
   "source": [
    "experiment(k=3, seed=SEED)"
   ]
  },
  {
   "cell_type": "markdown",
   "metadata": {},
   "source": [
    "### Dla `k = 5`"
   ]
  },
  {
   "cell_type": "code",
   "execution_count": 37,
   "metadata": {},
   "outputs": [
    {
     "name": "stdout",
     "output_type": "stream",
     "text": [
      "Rozmiar zbioru uczącego:      96\n",
      "Rozmiar zbioru walidacyjnego: 24\n",
      "Rozmiar zbioru testującego:   30\n",
      "=================== k = 0 ===================\n",
      "Macierz pomyłek:\n",
      "[[ 7  0  0]\n",
      " [ 0  6  0]\n",
      " [ 0  0 11]]\n",
      "Precyzja (dla konkretnych klas): [1.0, 1.0, 1.0]\n",
      "Precyzja: 100.00%\n",
      "Precyzja dla zbioru testującego: 93.33%\n",
      "=================== k = 1 ===================\n",
      "Macierz pomyłek:\n",
      "[[10  0  0]\n",
      " [ 0  6  0]\n",
      " [ 0  1  7]]\n",
      "Precyzja (dla konkretnych klas): [1.0, 0.8571428571428571, 1.0]\n",
      "Precyzja: 95.83%\n",
      "Precyzja dla zbioru testującego: 93.33%\n",
      "=================== k = 2 ===================\n",
      "Macierz pomyłek:\n",
      "[[ 8  0  0]\n",
      " [ 0 11  0]\n",
      " [ 0  1  4]]\n",
      "Precyzja (dla konkretnych klas): [1.0, 0.9166666666666666, 1.0]\n",
      "Precyzja: 95.83%\n",
      "Precyzja dla zbioru testującego: 93.33%\n",
      "=================== k = 3 ===================\n",
      "Macierz pomyłek:\n",
      "[[ 6  0  0]\n",
      " [ 0 11  1]\n",
      " [ 0  0  6]]\n",
      "Precyzja (dla konkretnych klas): [1.0, 1.0, 0.8571428571428571]\n",
      "Precyzja: 95.83%\n",
      "Precyzja dla zbioru testującego: 93.33%\n",
      "=================== k = 4 ===================\n",
      "Macierz pomyłek:\n",
      "[[9 0 0]\n",
      " [0 8 0]\n",
      " [0 1 6]]\n",
      "Precyzja (dla konkretnych klas): [1.0, 0.8888888888888888, 1.0]\n",
      "Precyzja: 95.83%\n",
      "Precyzja dla zbioru testującego: 93.33%\n",
      "=============== PODSUMOWANIE ================\n",
      "Średnia precyzja trafień (zbiór walidacyjny): 96.67%\n",
      "Średnia precyzja trafień (zbiór testujący):   93.33%\n"
     ]
    }
   ],
   "source": [
    "experiment(k=5, seed=SEED)"
   ]
  },
  {
   "cell_type": "markdown",
   "metadata": {},
   "source": [
    "### Dla `k = 8`"
   ]
  },
  {
   "cell_type": "code",
   "execution_count": 38,
   "metadata": {},
   "outputs": [
    {
     "name": "stdout",
     "output_type": "stream",
     "text": [
      "Rozmiar zbioru uczącego:      105\n",
      "Rozmiar zbioru walidacyjnego: 15\n",
      "Rozmiar zbioru testującego:   30\n",
      "=================== k = 0 ===================\n",
      "Macierz pomyłek:\n",
      "[[4 0 0]\n",
      " [0 3 0]\n",
      " [0 0 8]]\n",
      "Precyzja (dla konkretnych klas): [1.0, 1.0, 1.0]\n",
      "Precyzja: 100.00%\n",
      "Precyzja dla zbioru testującego: 93.33%\n",
      "=================== k = 1 ===================\n",
      "Macierz pomyłek:\n",
      "[[4 0 0]\n",
      " [0 5 0]\n",
      " [0 1 5]]\n",
      "Precyzja (dla konkretnych klas): [1.0, 0.8333333333333334, 1.0]\n",
      "Precyzja: 93.33%\n",
      "Precyzja dla zbioru testującego: 93.33%\n",
      "=================== k = 2 ===================\n",
      "Macierz pomyłek:\n",
      "[[8 0 0]\n",
      " [0 2 0]\n",
      " [0 0 5]]\n",
      "Precyzja (dla konkretnych klas): [1.0, 1.0, 1.0]\n",
      "Precyzja: 100.00%\n",
      "Precyzja dla zbioru testującego: 93.33%\n",
      "=================== k = 3 ===================\n",
      "Macierz pomyłek:\n",
      "[[6 0 0]\n",
      " [0 7 0]\n",
      " [0 0 2]]\n",
      "Precyzja (dla konkretnych klas): [1.0, 1.0, 1.0]\n",
      "Precyzja: 100.00%\n",
      "Precyzja dla zbioru testującego: 93.33%\n",
      "=================== k = 4 ===================\n",
      "Macierz pomyłek:\n",
      "[[4 0 0]\n",
      " [0 7 0]\n",
      " [0 1 3]]\n",
      "Precyzja (dla konkretnych klas): [1.0, 0.875, 1.0]\n",
      "Precyzja: 93.33%\n",
      "Precyzja dla zbioru testującego: 93.33%\n",
      "=================== k = 5 ===================\n",
      "Macierz pomyłek:\n",
      "[[3 0 0]\n",
      " [0 9 0]\n",
      " [0 0 3]]\n",
      "Precyzja (dla konkretnych klas): [1.0, 1.0, 1.0]\n",
      "Precyzja: 100.00%\n",
      "Precyzja dla zbioru testującego: 93.33%\n",
      "=================== k = 6 ===================\n",
      "Macierz pomyłek:\n",
      "[[8 0 0]\n",
      " [0 3 1]\n",
      " [0 0 3]]\n",
      "Precyzja (dla konkretnych klas): [1.0, 1.0, 0.75]\n",
      "Precyzja: 93.33%\n",
      "Precyzja dla zbioru testującego: 93.33%\n",
      "=================== k = 7 ===================\n",
      "Macierz pomyłek:\n",
      "[[3 0 0]\n",
      " [0 6 0]\n",
      " [0 1 5]]\n",
      "Precyzja (dla konkretnych klas): [1.0, 0.8571428571428571, 1.0]\n",
      "Precyzja: 93.33%\n",
      "Precyzja dla zbioru testującego: 93.33%\n",
      "=============== PODSUMOWANIE ================\n",
      "Średnia precyzja trafień (zbiór walidacyjny): 96.67%\n",
      "Średnia precyzja trafień (zbiór testujący):   93.33%\n"
     ]
    }
   ],
   "source": [
    "experiment(k=8, seed=SEED)"
   ]
  },
  {
   "cell_type": "markdown",
   "metadata": {},
   "source": [
    "### Dla `k = 10`"
   ]
  },
  {
   "cell_type": "code",
   "execution_count": 39,
   "metadata": {},
   "outputs": [
    {
     "name": "stdout",
     "output_type": "stream",
     "text": [
      "Rozmiar zbioru uczącego:      108\n",
      "Rozmiar zbioru walidacyjnego: 12\n",
      "Rozmiar zbioru testującego:   30\n",
      "=================== k = 0 ===================\n",
      "Macierz pomyłek:\n",
      "[[3 0 0]\n",
      " [0 2 0]\n",
      " [0 0 7]]\n",
      "Precyzja (dla konkretnych klas): [1.0, 1.0, 1.0]\n",
      "Precyzja: 100.00%\n",
      "Precyzja dla zbioru testującego: 93.33%\n",
      "=================== k = 1 ===================\n",
      "Macierz pomyłek:\n",
      "[[4 0 0]\n",
      " [0 3 1]\n",
      " [0 0 4]]\n",
      "Precyzja (dla konkretnych klas): [1.0, 1.0, 0.8]\n",
      "Precyzja: 91.67%\n",
      "Precyzja dla zbioru testującego: 93.33%\n",
      "=================== k = 2 ===================\n",
      "Macierz pomyłek:\n",
      "[[3 0 0]\n",
      " [0 4 0]\n",
      " [0 1 4]]\n",
      "Precyzja (dla konkretnych klas): [1.0, 0.8, 1.0]\n",
      "Precyzja: 91.67%\n",
      "Precyzja dla zbioru testującego: 93.33%\n",
      "=================== k = 3 ===================\n",
      "Macierz pomyłek:\n",
      "[[7 0 0]\n",
      " [0 2 0]\n",
      " [0 0 3]]\n",
      "Precyzja (dla konkretnych klas): [1.0, 1.0, 1.0]\n",
      "Precyzja: 100.00%\n",
      "Precyzja dla zbioru testującego: 93.33%\n",
      "=================== k = 4 ===================\n",
      "Macierz pomyłek:\n",
      "[[5 0 0]\n",
      " [0 5 0]\n",
      " [0 0 2]]\n",
      "Precyzja (dla konkretnych klas): [1.0, 1.0, 1.0]\n",
      "Precyzja: 100.00%\n",
      "Precyzja dla zbioru testującego: 93.33%\n",
      "=================== k = 5 ===================\n",
      "Macierz pomyłek:\n",
      "[[3 0 0]\n",
      " [0 6 0]\n",
      " [0 1 2]]\n",
      "Precyzja (dla konkretnych klas): [1.0, 0.8571428571428571, 1.0]\n",
      "Precyzja: 91.67%\n",
      "Precyzja dla zbioru testującego: 93.33%\n",
      "=================== k = 6 ===================\n",
      "Macierz pomyłek:\n",
      "[[3 0 0]\n",
      " [0 5 0]\n",
      " [0 0 4]]\n",
      "Precyzja (dla konkretnych klas): [1.0, 1.0, 1.0]\n",
      "Precyzja: 100.00%\n",
      "Precyzja dla zbioru testującego: 93.33%\n",
      "=================== k = 7 ===================\n",
      "Macierz pomyłek:\n",
      "[[3 0 0]\n",
      " [0 6 1]\n",
      " [0 0 2]]\n",
      "Precyzja (dla konkretnych klas): [1.0, 1.0, 0.6666666666666666]\n",
      "Precyzja: 91.67%\n",
      "Precyzja dla zbioru testującego: 93.33%\n",
      "=================== k = 8 ===================\n",
      "Macierz pomyłek:\n",
      "[[8 0 0]\n",
      " [0 2 0]\n",
      " [0 0 2]]\n",
      "Precyzja (dla konkretnych klas): [1.0, 1.0, 1.0]\n",
      "Precyzja: 100.00%\n",
      "Precyzja dla zbioru testującego: 93.33%\n",
      "=================== k = 9 ===================\n",
      "Macierz pomyłek:\n",
      "[[1 0 0]\n",
      " [0 6 0]\n",
      " [0 1 4]]\n",
      "Precyzja (dla konkretnych klas): [1.0, 0.8571428571428571, 1.0]\n",
      "Precyzja: 91.67%\n",
      "Precyzja dla zbioru testującego: 93.33%\n",
      "=============== PODSUMOWANIE ================\n",
      "Średnia precyzja trafień (zbiór walidacyjny): 95.83%\n",
      "Średnia precyzja trafień (zbiór testujący):   93.33%\n"
     ]
    }
   ],
   "source": [
    "experiment(k=10, seed=SEED)"
   ]
  },
  {
   "cell_type": "markdown",
   "metadata": {},
   "source": [
    "## Eksperymenty dla zbioru testowego o rozmiarze 10\n",
    "\n",
    "### Dla k = 2"
   ]
  },
  {
   "cell_type": "code",
   "execution_count": 40,
   "metadata": {},
   "outputs": [
    {
     "name": "stdout",
     "output_type": "stream",
     "text": [
      "Rozmiar zbioru uczącego:      70\n",
      "Rozmiar zbioru walidacyjnego: 70\n",
      "Rozmiar zbioru testującego:   10\n",
      "=================== k = 0 ===================\n",
      "Macierz pomyłek:\n",
      "[[24  0  0]\n",
      " [ 0 16  1]\n",
      " [ 0  2 27]]\n",
      "Precyzja (dla konkretnych klas): [1.0, 0.8888888888888888, 0.9642857142857143]\n",
      "Precyzja: 95.71%\n",
      "Precyzja dla zbioru testującego: 100.00%\n",
      "=================== k = 1 ===================\n",
      "Macierz pomyłek:\n",
      "[[22  0  0]\n",
      " [ 0 27  3]\n",
      " [ 0  0 18]]\n",
      "Precyzja (dla konkretnych klas): [1.0, 1.0, 0.8571428571428571]\n",
      "Precyzja: 95.71%\n",
      "Precyzja dla zbioru testującego: 100.00%\n",
      "=============== PODSUMOWANIE ================\n",
      "Średnia precyzja trafień (zbiór walidacyjny): 95.71%\n",
      "Średnia precyzja trafień (zbiór testujący):   100.00%\n"
     ]
    }
   ],
   "source": [
    "experiment(k=2, seed=SEED, test_size=10)"
   ]
  },
  {
   "cell_type": "markdown",
   "metadata": {},
   "source": [
    "### Dla k = 5"
   ]
  },
  {
   "cell_type": "code",
   "execution_count": 41,
   "metadata": {},
   "outputs": [
    {
     "name": "stdout",
     "output_type": "stream",
     "text": [
      "Rozmiar zbioru uczącego:      112\n",
      "Rozmiar zbioru walidacyjnego: 28\n",
      "Rozmiar zbioru testującego:   10\n",
      "=================== k = 0 ===================\n",
      "Macierz pomyłek:\n",
      "[[ 6  0  0]\n",
      " [ 0  5  1]\n",
      " [ 0  1 15]]\n",
      "Precyzja (dla konkretnych klas): [1.0, 0.8333333333333334, 0.9375]\n",
      "Precyzja: 92.86%\n",
      "Precyzja dla zbioru testującego: 100.00%\n",
      "=================== k = 1 ===================\n",
      "Macierz pomyłek:\n",
      "[[10  0  0]\n",
      " [ 0  7  1]\n",
      " [ 0  1  9]]\n",
      "Precyzja (dla konkretnych klas): [1.0, 0.875, 0.9]\n",
      "Precyzja: 92.86%\n",
      "Precyzja dla zbioru testującego: 100.00%\n",
      "=================== k = 2 ===================\n",
      "Macierz pomyłek:\n",
      "[[12  0  0]\n",
      " [ 0  9  0]\n",
      " [ 0  1  6]]\n",
      "Precyzja (dla konkretnych klas): [1.0, 0.9, 1.0]\n",
      "Precyzja: 96.43%\n",
      "Precyzja dla zbioru testującego: 100.00%\n",
      "=================== k = 3 ===================\n",
      "Macierz pomyłek:\n",
      "[[ 8  0  0]\n",
      " [ 0 13  1]\n",
      " [ 0  0  6]]\n",
      "Precyzja (dla konkretnych klas): [1.0, 1.0, 0.8571428571428571]\n",
      "Precyzja: 96.43%\n",
      "Precyzja dla zbioru testującego: 100.00%\n",
      "=================== k = 4 ===================\n",
      "Macierz pomyłek:\n",
      "[[10  0  0]\n",
      " [ 0  9  1]\n",
      " [ 0  0  8]]\n",
      "Precyzja (dla konkretnych klas): [1.0, 1.0, 0.8888888888888888]\n",
      "Precyzja: 96.43%\n",
      "Precyzja dla zbioru testującego: 100.00%\n",
      "=============== PODSUMOWANIE ================\n",
      "Średnia precyzja trafień (zbiór walidacyjny): 95.00%\n",
      "Średnia precyzja trafień (zbiór testujący):   100.00%\n"
     ]
    }
   ],
   "source": [
    "experiment(k=5, seed=SEED, test_size=10)"
   ]
  },
  {
   "cell_type": "markdown",
   "metadata": {},
   "source": [
    "### Dla k = 7"
   ]
  },
  {
   "cell_type": "code",
   "execution_count": 42,
   "metadata": {},
   "outputs": [
    {
     "name": "stdout",
     "output_type": "stream",
     "text": [
      "Rozmiar zbioru uczącego:      120\n",
      "Rozmiar zbioru walidacyjnego: 20\n",
      "Rozmiar zbioru testującego:   10\n",
      "=================== k = 0 ===================\n",
      "Macierz pomyłek:\n",
      "[[6 0 0]\n",
      " [0 3 1]\n",
      " [0 1 9]]\n",
      "Precyzja (dla konkretnych klas): [1.0, 0.75, 0.9]\n",
      "Precyzja: 90.00%\n",
      "Precyzja dla zbioru testującego: 100.00%\n",
      "=================== k = 1 ===================\n",
      "Macierz pomyłek:\n",
      "[[6 0 0]\n",
      " [0 4 1]\n",
      " [0 0 9]]\n",
      "Precyzja (dla konkretnych klas): [1.0, 1.0, 0.9]\n",
      "Precyzja: 95.00%\n",
      "Precyzja dla zbioru testującego: 100.00%\n",
      "=================== k = 2 ===================\n",
      "Macierz pomyłek:\n",
      "[[6 0 0]\n",
      " [0 5 0]\n",
      " [0 1 8]]\n",
      "Precyzja (dla konkretnych klas): [1.0, 0.8333333333333334, 1.0]\n",
      "Precyzja: 95.00%\n",
      "Precyzja dla zbioru testującego: 100.00%\n",
      "=================== k = 3 ===================\n",
      "Macierz pomyłek:\n",
      "[[10  0  0]\n",
      " [ 0  7  0]\n",
      " [ 0  0  3]]\n",
      "Precyzja (dla konkretnych klas): [1.0, 1.0, 1.0]\n",
      "Precyzja: 100.00%\n",
      "Precyzja dla zbioru testującego: 100.00%\n",
      "=================== k = 4 ===================\n",
      "Macierz pomyłek:\n",
      "[[5 0 0]\n",
      " [0 8 0]\n",
      " [0 1 6]]\n",
      "Precyzja (dla konkretnych klas): [1.0, 0.8888888888888888, 1.0]\n",
      "Precyzja: 95.00%\n",
      "Precyzja dla zbioru testującego: 100.00%\n",
      "=================== k = 5 ===================\n",
      "Macierz pomyłek:\n",
      "[[7 0 0]\n",
      " [0 9 1]\n",
      " [0 0 3]]\n",
      "Precyzja (dla konkretnych klas): [1.0, 1.0, 0.75]\n",
      "Precyzja: 95.00%\n",
      "Precyzja dla zbioru testującego: 100.00%\n",
      "=================== k = 6 ===================\n",
      "Macierz pomyłek:\n",
      "[[6 0 0]\n",
      " [0 8 0]\n",
      " [0 0 6]]\n",
      "Precyzja (dla konkretnych klas): [1.0, 1.0, 1.0]\n",
      "Precyzja: 100.00%\n",
      "Precyzja dla zbioru testującego: 100.00%\n",
      "=============== PODSUMOWANIE ================\n",
      "Średnia precyzja trafień (zbiór walidacyjny): 95.71%\n",
      "Średnia precyzja trafień (zbiór testujący):   100.00%\n"
     ]
    }
   ],
   "source": [
    "experiment(k=7, seed=SEED, test_size=10)"
   ]
  },
  {
   "cell_type": "markdown",
   "metadata": {},
   "source": [
    "## Eksperymenty dla zbioru testowego o rozmiarze 50\n",
    "\n",
    "### Dla `k = 2`"
   ]
  },
  {
   "cell_type": "code",
   "execution_count": 43,
   "metadata": {},
   "outputs": [
    {
     "name": "stdout",
     "output_type": "stream",
     "text": [
      "Rozmiar zbioru uczącego:      50\n",
      "Rozmiar zbioru walidacyjnego: 50\n",
      "Rozmiar zbioru testującego:   50\n",
      "=================== k = 0 ===================\n",
      "Macierz pomyłek:\n",
      "[[19  0  0]\n",
      " [ 0 16  0]\n",
      " [ 0  2 13]]\n",
      "Precyzja (dla konkretnych klas): [1.0, 0.8888888888888888, 1.0]\n",
      "Precyzja: 96.00%\n",
      "Precyzja dla zbioru testującego: 96.00%\n",
      "=================== k = 1 ===================\n",
      "Macierz pomyłek:\n",
      "[[15  0  0]\n",
      " [ 0 21  1]\n",
      " [ 0  0 13]]\n",
      "Precyzja (dla konkretnych klas): [1.0, 1.0, 0.9285714285714286]\n",
      "Precyzja: 98.00%\n",
      "Precyzja dla zbioru testującego: 94.00%\n",
      "=============== PODSUMOWANIE ================\n",
      "Średnia precyzja trafień (zbiór walidacyjny): 97.00%\n",
      "Średnia precyzja trafień (zbiór testujący):   95.00%\n"
     ]
    }
   ],
   "source": [
    "experiment(k=2, seed=SEED, test_size=50)"
   ]
  },
  {
   "cell_type": "markdown",
   "metadata": {},
   "source": [
    "### Dla `k = 5`"
   ]
  },
  {
   "cell_type": "code",
   "execution_count": 44,
   "metadata": {},
   "outputs": [
    {
     "name": "stdout",
     "output_type": "stream",
     "text": [
      "Rozmiar zbioru uczącego:      80\n",
      "Rozmiar zbioru walidacyjnego: 20\n",
      "Rozmiar zbioru testującego:   50\n",
      "=================== k = 0 ===================\n",
      "Macierz pomyłek:\n",
      "[[6 0 0]\n",
      " [0 5 0]\n",
      " [0 1 8]]\n",
      "Precyzja (dla konkretnych klas): [1.0, 0.8333333333333334, 1.0]\n",
      "Precyzja: 95.00%\n",
      "Precyzja dla zbioru testującego: 96.00%\n",
      "=================== k = 1 ===================\n",
      "Macierz pomyłek:\n",
      "[[10  0  0]\n",
      " [ 0  7  0]\n",
      " [ 0  0  3]]\n",
      "Precyzja (dla konkretnych klas): [1.0, 1.0, 1.0]\n",
      "Precyzja: 100.00%\n",
      "Precyzja dla zbioru testującego: 94.00%\n",
      "=================== k = 2 ===================\n",
      "Macierz pomyłek:\n",
      "[[5 0 0]\n",
      " [0 8 0]\n",
      " [0 1 6]]\n",
      "Precyzja (dla konkretnych klas): [1.0, 0.8888888888888888, 1.0]\n",
      "Precyzja: 95.00%\n",
      "Precyzja dla zbioru testującego: 96.00%\n",
      "=================== k = 3 ===================\n",
      "Macierz pomyłek:\n",
      "[[7 0 0]\n",
      " [0 8 2]\n",
      " [0 0 3]]\n",
      "Precyzja (dla konkretnych klas): [1.0, 1.0, 0.6]\n",
      "Precyzja: 90.00%\n",
      "Precyzja dla zbioru testującego: 94.00%\n",
      "=================== k = 4 ===================\n",
      "Macierz pomyłek:\n",
      "[[6 0 0]\n",
      " [0 8 0]\n",
      " [0 1 5]]\n",
      "Precyzja (dla konkretnych klas): [1.0, 0.8888888888888888, 1.0]\n",
      "Precyzja: 95.00%\n",
      "Precyzja dla zbioru testującego: 96.00%\n",
      "=============== PODSUMOWANIE ================\n",
      "Średnia precyzja trafień (zbiór walidacyjny): 95.00%\n",
      "Średnia precyzja trafień (zbiór testujący):   95.20%\n"
     ]
    }
   ],
   "source": [
    "experiment(k=5, seed=SEED, test_size=50)"
   ]
  },
  {
   "cell_type": "markdown",
   "metadata": {},
   "source": [
    "### Dla `k = 10`"
   ]
  },
  {
   "cell_type": "code",
   "execution_count": 45,
   "metadata": {},
   "outputs": [
    {
     "name": "stdout",
     "output_type": "stream",
     "text": [
      "Rozmiar zbioru uczącego:      90\n",
      "Rozmiar zbioru walidacyjnego: 10\n",
      "Rozmiar zbioru testującego:   50\n",
      "=================== k = 0 ===================\n",
      "Macierz pomyłek:\n",
      "[[2 0 0]\n",
      " [0 3 0]\n",
      " [0 1 4]]\n",
      "Precyzja (dla konkretnych klas): [1.0, 0.75, 1.0]\n",
      "Precyzja: 90.00%\n",
      "Precyzja dla zbioru testującego: 96.00%\n",
      "=================== k = 1 ===================\n",
      "Macierz pomyłek:\n",
      "[[4 0 0]\n",
      " [0 2 0]\n",
      " [0 0 4]]\n",
      "Precyzja (dla konkretnych klas): [1.0, 1.0, 1.0]\n",
      "Precyzja: 100.00%\n",
      "Precyzja dla zbioru testującego: 96.00%\n",
      "=================== k = 2 ===================\n",
      "Macierz pomyłek:\n",
      "[[6 0 0]\n",
      " [0 3 0]\n",
      " [0 0 1]]\n",
      "Precyzja (dla konkretnych klas): [1.0, 1.0, 1.0]\n",
      "Precyzja: 100.00%\n",
      "Precyzja dla zbioru testującego: 94.00%\n",
      "=================== k = 3 ===================\n",
      "Macierz pomyłek:\n",
      "[[4 0 0]\n",
      " [0 4 0]\n",
      " [0 0 2]]\n",
      "Precyzja (dla konkretnych klas): [1.0, 1.0, 1.0]\n",
      "Precyzja: 100.00%\n",
      "Precyzja dla zbioru testującego: 96.00%\n",
      "=================== k = 4 ===================\n",
      "Macierz pomyłek:\n",
      "[[3 0 0]\n",
      " [0 4 0]\n",
      " [0 1 2]]\n",
      "Precyzja (dla konkretnych klas): [1.0, 0.8, 1.0]\n",
      "Precyzja: 90.00%\n",
      "Precyzja dla zbioru testującego: 96.00%\n",
      "=================== k = 5 ===================\n",
      "Macierz pomyłek:\n",
      "[[2 0 0]\n",
      " [0 4 0]\n",
      " [0 0 4]]\n",
      "Precyzja (dla konkretnych klas): [1.0, 1.0, 1.0]\n",
      "Precyzja: 100.00%\n",
      "Precyzja dla zbioru testującego: 96.00%\n",
      "=================== k = 6 ===================\n",
      "Macierz pomyłek:\n",
      "[[2 0]\n",
      " [0 8]]\n",
      "Precyzja (dla konkretnych klas): [1.0, 1.0]\n",
      "Precyzja: 100.00%\n",
      "Precyzja dla zbioru testującego: 94.00%\n",
      "=================== k = 7 ===================\n",
      "Macierz pomyłek:\n",
      "[[5 0 0]\n",
      " [0 1 1]\n",
      " [0 0 3]]\n",
      "Precyzja (dla konkretnych klas): [1.0, 1.0, 0.75]\n",
      "Precyzja: 90.00%\n",
      "Precyzja dla zbioru testującego: 94.00%\n",
      "=================== k = 8 ===================\n",
      "Macierz pomyłek:\n",
      "[[5 0 0]\n",
      " [0 4 0]\n",
      " [0 0 1]]\n",
      "Precyzja (dla konkretnych klas): [1.0, 1.0, 1.0]\n",
      "Precyzja: 100.00%\n",
      "Precyzja dla zbioru testującego: 94.00%\n",
      "=================== k = 9 ===================\n",
      "Macierz pomyłek:\n",
      "[[1 0 0]\n",
      " [0 4 0]\n",
      " [0 1 4]]\n",
      "Precyzja (dla konkretnych klas): [1.0, 0.8, 1.0]\n",
      "Precyzja: 90.00%\n",
      "Precyzja dla zbioru testującego: 94.00%\n",
      "=============== PODSUMOWANIE ================\n",
      "Średnia precyzja trafień (zbiór walidacyjny): 96.00%\n",
      "Średnia precyzja trafień (zbiór testujący):   95.00%\n"
     ]
    }
   ],
   "source": [
    "experiment(k=10, seed=SEED, test_size=50)"
   ]
  },
  {
   "cell_type": "markdown",
   "metadata": {},
   "source": [
    "## Podsumowanie i wnioski"
   ]
  }
 ],
 "metadata": {
  "interpreter": {
   "hash": "326db1f3a0d7d698a176c29c2d5d35e7b9aba83f5d223c286b26f209ce5d7661"
  },
  "kernelspec": {
   "display_name": "Python 3.10.4 64-bit",
   "language": "python",
   "name": "python3"
  },
  "language_info": {
   "codemirror_mode": {
    "name": "ipython",
    "version": 3
   },
   "file_extension": ".py",
   "mimetype": "text/x-python",
   "name": "python",
   "nbconvert_exporter": "python",
   "pygments_lexer": "ipython3",
   "version": "3.10.4"
  },
  "orig_nbformat": 4
 },
 "nbformat": 4,
 "nbformat_minor": 2
}
